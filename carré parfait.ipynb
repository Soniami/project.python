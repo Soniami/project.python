{
 "cells": [
  {
   "cell_type": "code",
   "execution_count": null,
   "metadata": {},
   "outputs": [],
   "source": [
    "#BOUSSA SONIA,BOULEKROUNE HADJER\n",
    "\n",
    "\n",
    "#carré parfait\n",
    " def est_un_carre(x):\n",
    "        y=1\n",
    "        while True:\n",
    "            z=y\n",
    "            y=(y**2 + x)/(2*y)\n",
    "            if abs (y-z) < 2:\n",
    "                break\n",
    "return (y**2 == x)           "
   ]
  }
 ],
 "metadata": {
  "kernelspec": {
   "display_name": "Python 3",
   "language": "python",
   "name": "python3"
  },
  "language_info": {
   "codemirror_mode": {
    "name": "ipython",
    "version": 3
   },
   "file_extension": ".py",
   "mimetype": "text/x-python",
   "name": "python",
   "nbconvert_exporter": "python",
   "pygments_lexer": "ipython3",
   "version": "3.6.4"
  }
 },
 "nbformat": 4,
 "nbformat_minor": 2
}
